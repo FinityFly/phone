{
 "cells": [
  {
   "cell_type": "code",
   "execution_count": 2,
   "metadata": {},
   "outputs": [
    {
     "name": "stderr",
     "output_type": "stream",
     "text": [
      "2025-03-19 16:55:49.503011: I external/local_xla/xla/tsl/cuda/cudart_stub.cc:32] Could not find cuda drivers on your machine, GPU will not be used.\n",
      "2025-03-19 16:55:49.507115: I external/local_xla/xla/tsl/cuda/cudart_stub.cc:32] Could not find cuda drivers on your machine, GPU will not be used.\n",
      "2025-03-19 16:55:49.517940: E external/local_xla/xla/stream_executor/cuda/cuda_fft.cc:467] Unable to register cuFFT factory: Attempting to register factory for plugin cuFFT when one has already been registered\n",
      "WARNING: All log messages before absl::InitializeLog() is called are written to STDERR\n",
      "E0000 00:00:1742417749.541485 3440027 cuda_dnn.cc:8579] Unable to register cuDNN factory: Attempting to register factory for plugin cuDNN when one has already been registered\n",
      "E0000 00:00:1742417749.550060 3440027 cuda_blas.cc:1407] Unable to register cuBLAS factory: Attempting to register factory for plugin cuBLAS when one has already been registered\n",
      "W0000 00:00:1742417749.570909 3440027 computation_placer.cc:177] computation placer already registered. Please check linkage and avoid linking the same target more than once.\n",
      "W0000 00:00:1742417749.570930 3440027 computation_placer.cc:177] computation placer already registered. Please check linkage and avoid linking the same target more than once.\n",
      "W0000 00:00:1742417749.570931 3440027 computation_placer.cc:177] computation placer already registered. Please check linkage and avoid linking the same target more than once.\n",
      "W0000 00:00:1742417749.570933 3440027 computation_placer.cc:177] computation placer already registered. Please check linkage and avoid linking the same target more than once.\n",
      "2025-03-19 16:55:49.575462: I tensorflow/core/platform/cpu_feature_guard.cc:210] This TensorFlow binary is optimized to use available CPU instructions in performance-critical operations.\n",
      "To enable the following instructions: AVX2 FMA, in other operations, rebuild TensorFlow with the appropriate compiler flags.\n"
     ]
    },
    {
     "name": "stdout",
     "output_type": "stream",
     "text": [
      "Tensorflow version: 2.19.0\n"
     ]
    },
    {
     "name": "stderr",
     "output_type": "stream",
     "text": [
      "/home/danlu/Documents/Github/phone/be/nn/.venv/lib/python3.10/site-packages/tensorflow_io/python/ops/__init__.py:98: UserWarning: unable to load libtensorflow_io_plugins.so: unable to open file: libtensorflow_io_plugins.so, from paths: ['/home/danlu/Documents/Github/phone/be/nn/.venv/lib/python3.10/site-packages/tensorflow_io/python/ops/libtensorflow_io_plugins.so']\n",
      "caused by: ['/home/danlu/Documents/Github/phone/be/nn/.venv/lib/python3.10/site-packages/tensorflow_io/python/ops/libtensorflow_io_plugins.so: undefined symbol: _ZN3tsl5mutex6unlockEv']\n",
      "  warnings.warn(f\"unable to load libtensorflow_io_plugins.so: {e}\")\n",
      "/home/danlu/Documents/Github/phone/be/nn/.venv/lib/python3.10/site-packages/tensorflow_io/python/ops/__init__.py:104: UserWarning: file system plugins are not loaded: unable to open file: libtensorflow_io.so, from paths: ['/home/danlu/Documents/Github/phone/be/nn/.venv/lib/python3.10/site-packages/tensorflow_io/python/ops/libtensorflow_io.so']\n",
      "caused by: ['/home/danlu/Documents/Github/phone/be/nn/.venv/lib/python3.10/site-packages/tensorflow_io/python/ops/libtensorflow_io.so: undefined symbol: _ZN3tsl7strings13safe_strtou64ESt17basic_string_viewIcSt11char_traitsIcEEPm']\n",
      "  warnings.warn(f\"file system plugins are not loaded: {e}\")\n"
     ]
    }
   ],
   "source": [
    "import os\n",
    "import pathlib\n",
    "\n",
    "import matplotlib.pyplot as plt\n",
    "import numpy as np\n",
    "import seaborn as sns\n",
    "import tensorflow as tf\n",
    "print(\"Tensorflow version:\", tf.__version__)\n",
    "\n",
    "from tensorflow.keras.layers import Dense, Flatten, Conv2D\n",
    "from tensorflow.keras import Model\n",
    "import tensorflow_io as tfio\n",
    "from IPython import display\n",
    "\n",
    "seed = 42\n",
    "tf.random.set_seed(seed)\n",
    "np.random.seed(seed)"
   ]
  },
  {
   "cell_type": "code",
   "execution_count": 4,
   "metadata": {},
   "outputs": [
    {
     "name": "stdout",
     "output_type": "stream",
     "text": [
      "Found 1 WAV files.\n",
      "Training set size: 0\n",
      "Validation set size: 1\n",
      "Unique labels: ['LDC93S1.wav']\n",
      "Sample x_train: []\n",
      "Sample y_train: []\n"
     ]
    }
   ],
   "source": [
    "DATASET_PATH = \"data\"\n",
    "SAMPLE = False\n",
    "\n",
    "data_dir = pathlib.Path(DATASET_PATH)\n",
    "data = []\n",
    "\n",
    "for folder in data_dir.iterdir():\n",
    "    if folder.is_dir():\n",
    "        if SAMPLE and len(data) > 0:\n",
    "            break\n",
    "\n",
    "        for wav_file in folder.glob(\"*.wav\"):\n",
    "            data.append(wav_file)\n",
    "\n",
    "print(f\"Found {len(data)} WAV files.\")\n",
    "\n",
    "# Shuffle the data\n",
    "np.random.shuffle(data)\n",
    "\n",
    "# Split the data into training and validation sets\n",
    "split = int(0.8 * len(data))\n",
    "train_files = data[:split]\n",
    "val_files = data[split:]\n",
    "unique_labels = np.unique([wav_file.name.split(\"_\")[0] for wav_file in data])\n",
    "encoding = {label: index for index, label in enumerate(unique_labels)}\n",
    "\n",
    "print(f\"Training set size: {len(train_files)}\")\n",
    "print(f\"Validation set size: {len(val_files)}\")\n",
    "print(f\"Unique labels: {unique_labels}\")\n",
    "\n",
    "x_train, y_train = [], []\n",
    "x_test, y_test = [], []\n",
    "\n",
    "for wav_file in train_files:\n",
    "    label = wav_file.name.split(\"_\")[0]\n",
    "    one_hot = tf.one_hot(encoding[label], len(unique_labels))\n",
    "    y_train.append(one_hot)\n",
    "    x_train.append(str(wav_file))\n",
    "\n",
    "for wav_file in val_files:\n",
    "    label = wav_file.name.split(\"_\")[0]\n",
    "    one_hot = tf.one_hot(encoding[label], len(unique_labels))\n",
    "    y_test.append(one_hot)\n",
    "    x_test.append(str(wav_file))\n",
    "\n",
    "print(f\"Sample x_train: {x_train}\")\n",
    "print(f\"Sample y_train: {y_train}\")\n"
   ]
  }
 ],
 "metadata": {
  "kernelspec": {
   "display_name": ".venv",
   "language": "python",
   "name": "python3"
  },
  "language_info": {
   "codemirror_mode": {
    "name": "ipython",
    "version": 3
   },
   "file_extension": ".py",
   "mimetype": "text/x-python",
   "name": "python",
   "nbconvert_exporter": "python",
   "pygments_lexer": "ipython3",
   "version": "3.10.12"
  }
 },
 "nbformat": 4,
 "nbformat_minor": 2
}
